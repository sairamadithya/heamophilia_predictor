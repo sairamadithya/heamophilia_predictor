{
 "cells": [
  {
   "cell_type": "code",
   "execution_count": null,
   "id": "2fba6daf",
   "metadata": {},
   "outputs": [],
   "source": [
    "print(\"HEAMOPHILIA DISEASE PREDICTOR USING PEDIGREE ANALYSIS\")\n",
    "print(\"answer Yes or No for the following questions in order to avoid error\")\n",
    "print(\"are you a male?\")\n",
    "gender= str(input())\n",
    "if gender=='Yes':\n",
    "    print(\"are you affected with heamophilia\")\n",
    "    state= str(input())\n",
    "    if state== 'Yes':\n",
    "        print(\"enter the number of daughters if any (max of 2)\")\n",
    "        daughter= int(input())\n",
    "        if daughter==0:\n",
    "            print(\"no worries!\")\n",
    "        elif daughter==1:\n",
    "            print(\"she is a carrier!!\")\n",
    "        else:\n",
    "            print(\"both of them are carriers!!\")\n",
    "        print(\"enter the number of sons if any (max of 2)\")\n",
    "        son= int(input())\n",
    "        if son==0:\n",
    "            print(\"no worries!\")\n",
    "        elif son==1:\n",
    "            print(\"no worries\")\n",
    "        else:\n",
    "            print(\"no worries\")               \n",
    "    else:  \n",
    "        state1= True\n",
    "        print(\"answer the next set of questions\")\n",
    "else:\n",
    "    print(\"has your father had heamophilia?\")\n",
    "    prev=str(input())\n",
    "    if prev=='Yes':\n",
    "        print(\"enter the number of daughters if any (max of 2)\")\n",
    "        daughter= int(input())\n",
    "        if daughter==0:\n",
    "            print(\"no worries!\")\n",
    "        elif daughter==1:\n",
    "            print(\"50% chance that she is a carrier\")\n",
    "        else:\n",
    "            print(\"either one of them is a carrier!!\")\n",
    "        print(\"enter the number of sons if any (max of 2)\")\n",
    "        son= int(input())\n",
    "        if son==0:\n",
    "            print(\"no worries!\")\n",
    "        elif son==1:\n",
    "            print(\"50% chance that he can be affected with heamophilia\")\n",
    "        else:\n",
    "            print(\"one son is normal and another is affected with heamophilia\")          \n",
    "    else:\n",
    "        print(\"no worries!!\")\n",
    "print(\"thank you for using this predictor!!!\")  \n",
    "\n",
    "    \n"
   ]
  }
 ],
 "metadata": {
  "kernelspec": {
   "display_name": "Python 3",
   "language": "python",
   "name": "python3"
  },
  "language_info": {
   "codemirror_mode": {
    "name": "ipython",
    "version": 3
   },
   "file_extension": ".py",
   "mimetype": "text/x-python",
   "name": "python",
   "nbconvert_exporter": "python",
   "pygments_lexer": "ipython3",
   "version": "3.8.8"
  }
 },
 "nbformat": 4,
 "nbformat_minor": 5
}
